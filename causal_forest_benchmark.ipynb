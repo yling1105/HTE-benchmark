{
 "cells": [
  {
   "cell_type": "code",
   "execution_count": 3,
   "metadata": {},
   "outputs": [],
   "source": [
    "library(grf)"
   ]
  },
  {
   "cell_type": "code",
   "execution_count": 4,
   "metadata": {},
   "outputs": [],
   "source": [
    "train = read.csv('train_df.csv')\n",
    "test  = read.csv('test_df.csv')"
   ]
  },
  {
   "cell_type": "code",
   "execution_count": 15,
   "metadata": {},
   "outputs": [
    {
     "data": {
      "text/html": [
       "6771"
      ],
      "text/latex": [
       "6771"
      ],
      "text/markdown": [
       "6771"
      ],
      "text/plain": [
       "[1] 6771"
      ]
     },
     "metadata": {},
     "output_type": "display_data"
    }
   ],
   "source": [
    "nrow(x_train)"
   ]
  },
  {
   "cell_type": "code",
   "execution_count": 60,
   "metadata": {},
   "outputs": [],
   "source": [
    "x_train = train[,7:255]\n",
    "y_train = train[['adrd']]\n",
    "w_train = rep(0, nrow(train))\n",
    "for (i in c(1:nrow(train))){\n",
    "    if (train$treatment[i] != 'control'){\n",
    "        w_train[i] <- 1\n",
    "    }\n",
    "}\n",
    "\n",
    "x_test = test[, 7:255]\n",
    "y_test = test[['adrd']]\n",
    "w_test = rep(0, nrow(test))\n",
    "for (i in c(1:nrow(test))){\n",
    "    if (test$treatment[i] != 'control'){\n",
    "        w_test[i] <- 1\n",
    "    }\n",
    "}"
   ]
  },
  {
   "cell_type": "code",
   "execution_count": 25,
   "metadata": {},
   "outputs": [],
   "source": [
    "c.forest <- causal_forest(x_train, y_train, w_train)"
   ]
  },
  {
   "cell_type": "code",
   "execution_count": 27,
   "metadata": {},
   "outputs": [],
   "source": [
    "c.pred <- predict(c.forest, x_test)"
   ]
  },
  {
   "cell_type": "code",
   "execution_count": 34,
   "metadata": {},
   "outputs": [],
   "source": [
    "write.csv(c.pred[['predictions']], 'cforest_pre.csv')"
   ]
  },
  {
   "cell_type": "code",
   "execution_count": 61,
   "metadata": {},
   "outputs": [],
   "source": [
    "c.forest.test <- causal_forest(x_test, y_test, w_test)"
   ]
  },
  {
   "cell_type": "code",
   "execution_count": 65,
   "metadata": {},
   "outputs": [],
   "source": [
    "err = 0\n",
    "for (i in c(1:length(pred2))){\n",
    "    err <- err + (c.pred$predictions[i] - pred2$predictions[i])^2\n",
    "}\n",
    "err <- err / length(pred2)"
   ]
  },
  {
   "cell_type": "code",
   "execution_count": 66,
   "metadata": {},
   "outputs": [
    {
     "data": {
      "text/html": [
       "0.00596427604343013"
      ],
      "text/latex": [
       "0.00596427604343013"
      ],
      "text/markdown": [
       "0.00596427604343013"
      ],
      "text/plain": [
       "[1] 0.005964276"
      ]
     },
     "metadata": {},
     "output_type": "display_data"
    }
   ],
   "source": [
    "sqrt(err)"
   ]
  },
  {
   "cell_type": "code",
   "execution_count": null,
   "metadata": {},
   "outputs": [],
   "source": []
  }
 ],
 "metadata": {
  "kernelspec": {
   "display_name": "Python 3",
   "language": "python",
   "name": "python3"
  },
  "language_info": {
   "codemirror_mode": "r",
   "file_extension": ".r",
   "mimetype": "text/x-r-source",
   "name": "python",
   "pygments_lexer": "r",
   "version": "3.7.7 (default, Mar 10 2020, 15:43:33) \n[Clang 11.0.0 (clang-1100.0.33.17)]"
  },
  "vscode": {
   "interpreter": {
    "hash": "949777d72b0d2535278d3dc13498b2535136f6dfe0678499012e853ee9abcab1"
   }
  }
 },
 "nbformat": 4,
 "nbformat_minor": 4
}
