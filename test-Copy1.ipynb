{
 "cells": [
  {
   "cell_type": "code",
   "execution_count": 11,
   "metadata": {},
   "outputs": [
    {
     "name": "stdout",
     "output_type": "stream",
     "text": [
      "Collecting lime\n",
      "  Downloading lime-0.2.0.1.tar.gz (275 kB)\n",
      "\u001b[K     |████████████████████████████████| 275 kB 21.4 MB/s eta 0:00:01\n",
      "\u001b[?25hRequirement already satisfied: matplotlib in /usr/local/lib/python3.7/dist-packages (from lime) (3.4.2)\n",
      "Requirement already satisfied: numpy in /usr/local/lib/python3.7/dist-packages (from lime) (1.19.0)\n",
      "Requirement already satisfied: scipy in /usr/local/lib/python3.7/dist-packages (from lime) (1.5.4)\n",
      "Requirement already satisfied: tqdm in /usr/local/lib/python3.7/dist-packages (from lime) (4.61.1)\n",
      "Requirement already satisfied: scikit-learn>=0.18 in /usr/local/lib/python3.7/dist-packages (from lime) (0.24.2)\n",
      "Collecting scikit-image>=0.12\n",
      "  Downloading scikit_image-0.18.3-cp37-cp37m-manylinux_2_5_x86_64.manylinux1_x86_64.whl (29.2 MB)\n",
      "\u001b[K     |████████████████████████████████| 29.2 MB 39.8 MB/s eta 0:00:01    |█████████▋                      | 8.8 MB 39.8 MB/s eta 0:00:01\n",
      "\u001b[?25hRequirement already satisfied: pillow!=7.1.0,!=7.1.1,>=4.3.0 in /usr/local/lib/python3.7/dist-packages (from scikit-image>=0.12->lime) (8.2.0)\n",
      "Requirement already satisfied: networkx>=2.0 in /usr/local/lib/python3.7/dist-packages (from scikit-image>=0.12->lime) (2.5.1)\n",
      "Collecting imageio>=2.3.0\n",
      "  Downloading imageio-2.13.1-py3-none-any.whl (3.3 MB)\n",
      "\u001b[K     |████████████████████████████████| 3.3 MB 19.2 MB/s eta 0:00:01\n",
      "\u001b[?25hRequirement already satisfied: python-dateutil>=2.7 in /usr/local/lib/python3.7/dist-packages (from matplotlib->lime) (2.8.1)\n",
      "Requirement already satisfied: pyparsing>=2.2.1 in /usr/local/lib/python3.7/dist-packages (from matplotlib->lime) (2.4.7)\n",
      "Requirement already satisfied: cycler>=0.10 in /usr/local/lib/python3.7/dist-packages (from matplotlib->lime) (0.10.0)\n",
      "Requirement already satisfied: kiwisolver>=1.0.1 in /usr/local/lib/python3.7/dist-packages (from matplotlib->lime) (1.3.1)\n",
      "Requirement already satisfied: six in /usr/local/lib/python3.7/dist-packages (from cycler>=0.10->matplotlib->lime) (1.15.0)\n",
      "Requirement already satisfied: decorator<5,>=4.3 in /usr/local/lib/python3.7/dist-packages (from networkx>=2.0->scikit-image>=0.12->lime) (4.4.2)\n",
      "Collecting pillow!=7.1.0,!=7.1.1,>=4.3.0\n",
      "  Downloading Pillow-8.4.0-cp37-cp37m-manylinux_2_17_x86_64.manylinux2014_x86_64.whl (3.1 MB)\n",
      "\u001b[K     |████████████████████████████████| 3.1 MB 46.7 MB/s eta 0:00:01\n",
      "\u001b[?25hCollecting PyWavelets>=1.1.1\n",
      "  Downloading PyWavelets-1.2.0-cp37-cp37m-manylinux_2_5_x86_64.manylinux1_x86_64.whl (6.1 MB)\n",
      "\u001b[K     |████████████████████████████████| 6.1 MB 63.5 MB/s eta 0:00:01\n",
      "\u001b[?25hRequirement already satisfied: joblib>=0.11 in /usr/local/lib/python3.7/dist-packages (from scikit-learn>=0.18->lime) (1.0.1)\n",
      "Requirement already satisfied: threadpoolctl>=2.0.0 in /usr/local/lib/python3.7/dist-packages (from scikit-learn>=0.18->lime) (2.1.0)\n",
      "Collecting tifffile>=2019.7.26\n",
      "  Downloading tifffile-2021.11.2-py3-none-any.whl (178 kB)\n",
      "\u001b[K     |████████████████████████████████| 178 kB 75.0 MB/s eta 0:00:01\n",
      "\u001b[?25hBuilding wheels for collected packages: lime\n",
      "  Building wheel for lime (setup.py) ... \u001b[?25ldone\n",
      "\u001b[?25h  Created wheel for lime: filename=lime-0.2.0.1-py3-none-any.whl size=283857 sha256=520f1bca337e804fd1fe4d9b8e1e0173ce29312e6fee7f489ca25e4a2368f060\n",
      "  Stored in directory: /root/.cache/pip/wheels/ca/cb/e5/ac701e12d365a08917bf4c6171c0961bc880a8181359c66aa7\n",
      "Successfully built lime\n",
      "Installing collected packages: pillow, tifffile, PyWavelets, imageio, scikit-image, lime\n",
      "  Attempting uninstall: pillow\n",
      "    Found existing installation: Pillow 8.2.0\n",
      "    Uninstalling Pillow-8.2.0:\n",
      "      Successfully uninstalled Pillow-8.2.0\n",
      "\u001b[31mERROR: pip's dependency resolver does not currently take into account all the packages that are installed. This behaviour is the source of the following dependency conflicts.\n",
      "torchvision 0.2.2 requires tqdm==4.19.9, but you have tqdm 4.61.1 which is incompatible.\u001b[0m\n",
      "Successfully installed PyWavelets-1.2.0 imageio-2.13.1 lime-0.2.0.1 pillow-8.4.0 scikit-image-0.18.3 tifffile-2021.11.2\n",
      "\u001b[33mWARNING: You are using pip version 20.3.3; however, version 21.3.1 is available.\n",
      "You should consider upgrading via the '/usr/bin/python3.7 -m pip install --upgrade pip' command.\u001b[0m\n"
     ]
    }
   ],
   "source": [
    "!pip install lime"
   ]
  },
  {
   "cell_type": "code",
   "execution_count": 4,
   "metadata": {},
   "outputs": [
    {
     "name": "stdout",
     "output_type": "stream",
     "text": [
      "time: 423 ms (started: 2021-11-29 17:41:17 +00:00)\n"
     ]
    }
   ],
   "source": [
    "from catenets.models import TNet, SNet,DRNet\n",
    "#from importlib import reload  \n",
    "from catenets.models.representation_nets import SNet1, SNet2\n",
    "\n",
    "from catenets.experiments.simulation_utils import simulate_treatment_setup\n",
    "%load_ext autotime\n",
    "import pandas as pd\n",
    "import numpy as np\n",
    "import pickle\n",
    "import scipy\n",
    "from scipy.sparse import csr_matrix\n",
    "import sklearn\n",
    "from matplotlib import pyplot as plt"
   ]
  },
  {
   "cell_type": "code",
   "execution_count": 2,
   "metadata": {},
   "outputs": [
    {
     "name": "stdout",
     "output_type": "stream",
     "text": [
      "11285 9028\n",
      "time: 112 ms (started: 2021-11-29 16:19:34 +00:00)\n"
     ]
    }
   ],
   "source": [
    "data_path = \"../antiasthma-v2/\"\n",
    "(Y_tr, T_tr, X_tr, W_tr)=pickle.load(open(data_path+'YTXW_train.pkl','rb'))\n",
    "(Y_va, T_va, X_va, W_va)=pickle.load(open(data_path+'YTXW_val.pkl','rb'))\n",
    "(Y_te, T_te, X_te, W_te)=pickle.load(open(data_path+'YTXW_test.pkl','rb'))\n",
    "#print(Y_tr.shape,Y_va.shape,Y_te.shape)\n",
    "\n",
    "tot_t = Y_tr.shape[0]\n",
    "totexs = Y_tr.shape[0]+Y_va.shape[0]+Y_te.shape[0]\n",
    "tot_tv = Y_tr.shape[0]+Y_va.shape[0]\n",
    "print(totexs,tot_tv)"
   ]
  },
  {
   "cell_type": "code",
   "execution_count": 3,
   "metadata": {},
   "outputs": [
    {
     "data": {
      "text/html": [
       "<div>\n",
       "<style scoped>\n",
       "    .dataframe tbody tr th:only-of-type {\n",
       "        vertical-align: middle;\n",
       "    }\n",
       "\n",
       "    .dataframe tbody tr th {\n",
       "        vertical-align: top;\n",
       "    }\n",
       "\n",
       "    .dataframe thead th {\n",
       "        text-align: right;\n",
       "    }\n",
       "</style>\n",
       "<table border=\"1\" class=\"dataframe\">\n",
       "  <thead>\n",
       "    <tr style=\"text-align: right;\">\n",
       "      <th></th>\n",
       "      <th>patid</th>\n",
       "      <th>phecode3</th>\n",
       "      <th>count</th>\n",
       "      <th>log_count</th>\n",
       "    </tr>\n",
       "  </thead>\n",
       "  <tbody>\n",
       "    <tr>\n",
       "      <th>52</th>\n",
       "      <td>1</td>\n",
       "      <td>7</td>\n",
       "      <td>10</td>\n",
       "      <td>2.397895</td>\n",
       "    </tr>\n",
       "    <tr>\n",
       "      <th>53</th>\n",
       "      <td>1</td>\n",
       "      <td>8</td>\n",
       "      <td>1</td>\n",
       "      <td>0.693147</td>\n",
       "    </tr>\n",
       "    <tr>\n",
       "      <th>54</th>\n",
       "      <td>1</td>\n",
       "      <td>10</td>\n",
       "      <td>1</td>\n",
       "      <td>0.693147</td>\n",
       "    </tr>\n",
       "    <tr>\n",
       "      <th>55</th>\n",
       "      <td>1</td>\n",
       "      <td>11</td>\n",
       "      <td>3</td>\n",
       "      <td>1.386294</td>\n",
       "    </tr>\n",
       "    <tr>\n",
       "      <th>56</th>\n",
       "      <td>1</td>\n",
       "      <td>14</td>\n",
       "      <td>2</td>\n",
       "      <td>1.098612</td>\n",
       "    </tr>\n",
       "    <tr>\n",
       "      <th>...</th>\n",
       "      <td>...</td>\n",
       "      <td>...</td>\n",
       "      <td>...</td>\n",
       "      <td>...</td>\n",
       "    </tr>\n",
       "    <tr>\n",
       "      <th>590421</th>\n",
       "      <td>11282</td>\n",
       "      <td>220</td>\n",
       "      <td>2</td>\n",
       "      <td>1.098612</td>\n",
       "    </tr>\n",
       "    <tr>\n",
       "      <th>590422</th>\n",
       "      <td>11282</td>\n",
       "      <td>225</td>\n",
       "      <td>2</td>\n",
       "      <td>1.098612</td>\n",
       "    </tr>\n",
       "    <tr>\n",
       "      <th>590423</th>\n",
       "      <td>11282</td>\n",
       "      <td>234</td>\n",
       "      <td>2</td>\n",
       "      <td>1.098612</td>\n",
       "    </tr>\n",
       "    <tr>\n",
       "      <th>590424</th>\n",
       "      <td>11282</td>\n",
       "      <td>235</td>\n",
       "      <td>1</td>\n",
       "      <td>0.693147</td>\n",
       "    </tr>\n",
       "    <tr>\n",
       "      <th>590425</th>\n",
       "      <td>11282</td>\n",
       "      <td>238</td>\n",
       "      <td>11</td>\n",
       "      <td>2.484907</td>\n",
       "    </tr>\n",
       "  </tbody>\n",
       "</table>\n",
       "<p>353062 rows × 4 columns</p>\n",
       "</div>"
      ],
      "text/plain": [
       "        patid  phecode3  count  log_count\n",
       "52          1         7     10   2.397895\n",
       "53          1         8      1   0.693147\n",
       "54          1        10      1   0.693147\n",
       "55          1        11      3   1.386294\n",
       "56          1        14      2   1.098612\n",
       "...       ...       ...    ...        ...\n",
       "590421  11282       220      2   1.098612\n",
       "590422  11282       225      2   1.098612\n",
       "590423  11282       234      2   1.098612\n",
       "590424  11282       235      1   0.693147\n",
       "590425  11282       238     11   2.484907\n",
       "\n",
       "[353062 rows x 4 columns]"
      ]
     },
     "execution_count": 3,
     "metadata": {},
     "output_type": "execute_result"
    },
    {
     "name": "stdout",
     "output_type": "stream",
     "text": [
      "time: 20 ms (started: 2021-11-29 16:19:35 +00:00)\n"
     ]
    }
   ],
   "source": [
    "W_tr"
   ]
  },
  {
   "cell_type": "code",
   "execution_count": 4,
   "metadata": {},
   "outputs": [
    {
     "name": "stdout",
     "output_type": "stream",
     "text": [
      "time: 43.7 s (started: 2021-11-29 16:19:35 +00:00)\n"
     ]
    },
    {
     "name": "stderr",
     "output_type": "stream",
     "text": [
      "/usr/local/lib/python3.7/dist-packages/sklearn/base.py:315: UserWarning: Trying to unpickle estimator LabelEncoder from version 0.23.2 when using version 0.24.2. This might lead to breaking code or invalid results. Use at your own risk.\n",
      "  UserWarning)\n"
     ]
    }
   ],
   "source": [
    "\n",
    "Y_frames = [Y_tr, Y_va, Y_te]\n",
    "X_frames = [X_tr, X_va, X_te]\n",
    "T_frames = [T_tr, T_va, T_te]\n",
    "W_frames = [W_tr, W_va, W_te]\n",
    "\n",
    "\n",
    "Y = pd.concat(Y_frames)\n",
    "Y = np.array(Y)\n",
    "\n",
    "X = pd.concat(X_frames)\n",
    "T = pd.concat(T_frames)\n",
    "W = pd.concat(W_frames)\n",
    "\n",
    "patids = W.patid.unique()\n",
    "\n",
    "T = T[\"antiasthma\"]\n",
    "T.shape,Y.shape,X.shape,W.shape\n",
    "n_pats = len(W.patid.unique())\n",
    "n_phecodes = len(W.phecode3.unique())\n",
    "W_mat = np.zeros((n_pats,n_phecodes))\n",
    "\n",
    "for row in W.iterrows():\n",
    "    pid = np.where(patids==int(row[1][\"patid\"]))\n",
    "    pcd = int(row[1][\"phecode3\"])\n",
    "    W_mat[pid,pcd] = row[1][\"log_count\"]\n",
    "    \n",
    "    \n",
    "le_dx=pickle.load(open(data_path+'le_dx.pkl','rb'))\n",
    "a = np.array(T)\n",
    "Treatment = np.zeros((len(a),6))\n",
    "ctr = 0\n",
    "for item in a:\n",
    "    Treatment[ctr][item] = 1\n",
    "    ctr = ctr+1\n",
    "Xs = np.concatenate((W_mat,X),axis=1)\n",
    "#X = Xs/np.max(Xs,axis=0)\n",
    "\n",
    "P = np.zeros(totexs)\n",
    "\n",
    "for i in range(totexs):\n",
    "    P[i] = 0.5"
   ]
  },
  {
   "cell_type": "markdown",
   "metadata": {},
   "source": [
    "# Estimate CATE using TNet"
   ]
  },
  {
   "cell_type": "code",
   "execution_count": null,
   "metadata": {},
   "outputs": [],
   "source": [
    "\n",
    "\n",
    "ermse = 0.0\n",
    "cate_pred_all = []\n",
    "ctr = 0\n",
    "for k in range(5,6):\n",
    "    print(\"For treatment: \",k)\n",
    "    t = TNet(val_split_prop=0.25,n_iter=1500,batch_size=500)\n",
    "    w = np.array(Treatment[0:tot_tv,k],dtype=int)\n",
    "    y = np.array(Y[0:tot_tv],dtype=int)\n",
    "    X_train = Xs[0:tot_tv]\n",
    "    #print(X_train)\n",
    "    X_test = Xs[tot_tv :totexs]\n",
    "    #cate = cate[0:tot_tv]\n",
    "    p = P[0:tot_tv]\n",
    "    t.fit(X_train, y, w) # w is t here \n",
    "    cate_pred_train = t.predict(X_test) # without potential outcomes\n",
    "    t_test = TNet()\n",
    "    t_test.fit(X_test, Y[tot_tv :totexs], np.array(Treatment[tot_tv :totexs,k],dtype=int)) # w is t here \n",
    "    cate_pred_test = t_test.predict(X_test) \n",
    "    cate_pred_all.append(cate_pred_train)\n",
    "    ermse = ermse+(np.square(cate_pred_train - cate_pred_test).mean())\n",
    "    ctr = ctr+1\n",
    "    \n",
    "\n",
    "\n",
    "ermse = ermse/ctr\n"
   ]
  },
  {
   "cell_type": "code",
   "execution_count": 33,
   "metadata": {},
   "outputs": [
    {
     "name": "stdout",
     "output_type": "stream",
     "text": [
      "The estimated root mean squared error for the TNet is:  0.08795806765556335\n",
      "time: 1.31 ms (started: 2021-08-12 19:14:14 +00:00)\n"
     ]
    }
   ],
   "source": [
    "print(\"The estimated root mean squared error for the TNet is: \",ermse)"
   ]
  },
  {
   "cell_type": "code",
   "execution_count": 35,
   "metadata": {},
   "outputs": [
    {
     "data": {
      "image/png": "[encoded data removed]",
      "text/plain": [
       "<Figure size 432x288 with 1 Axes>"
      ]
     },
     "metadata": {
      "needs_background": "light"
     },
     "output_type": "display_data"
    },
    {
     "name": "stdout",
     "output_type": "stream",
     "text": [
      "time: 452 ms (started: 2021-08-12 19:14:50 +00:00)\n"
     ]
    }
   ],
   "source": [
    "for k in range(5,6):\n",
    "    plt.clf()\n",
    "    n, bins, patches = plt.hist(np.array(cate_pred_all[0]),bins=100) #0 to k-1 for range 1 to 6\n",
    "    plt.axvline(linewidth=1, color='r')\n",
    "    plt.show()"
   ]
  },
  {
   "cell_type": "markdown",
   "metadata": {},
   "source": [
    "# Estimate CATE using SNet1 = CFRNet"
   ]
  },
  {
   "cell_type": "code",
   "execution_count": 19,
   "metadata": {},
   "outputs": [
    {
     "name": "stdout",
     "output_type": "stream",
     "text": [
      "\n",
      " For treatment:  5\n",
      "Epoch: 0, current validation loss 0.18955309689044952\n",
      "Now fitting on test data for ERMSE\n",
      "Epoch: 0, current validation loss 0.18453781306743622\n",
      "time: 26.4 s (started: 2021-09-10 17:59:24 +00:00)\n"
     ]
    }
   ],
   "source": [
    "# estimate CATE using SNet1 =CFRNet\n",
    "\n",
    "ermse = 0.0\n",
    "cate_pred_all = []\n",
    "ctr = 0\n",
    "for k in range(5,6):\n",
    "    print(\"\\n For treatment: \",k)\n",
    "    \n",
    "    t = SNet1(val_split_prop=0.25,n_iter=1500,batch_size=100)\n",
    "    w = np.array(Treatment[0:tot_tv,k],dtype=int)\n",
    "    y = np.array(Y[0:tot_tv],dtype=int)\n",
    "    X_train = Xs[0:tot_tv]\n",
    "    #print(X_train)\n",
    "    X_test = Xs[tot_tv :totexs]\n",
    "    #cate = cate[0:tot_tv]\n",
    "    p = P[0:tot_tv]\n",
    "    t.fit(X_train, y, w) # w is t here \n",
    "    cate_pred_train = t.predict(X_test) # without potential outcomes\n",
    "    t_test = SNet1(val_split_prop=0.1,n_iter=1500,batch_size=100)\n",
    "    print(\"Now fitting on test data for ERMSE\")\n",
    "    t_test.fit(X_test, Y[tot_tv :totexs], np.array(Treatment[tot_tv :totexs,k],dtype=int)) # w is t here \n",
    "    cate_pred_test = t_test.predict(X_test) \n",
    "    cate_pred_all.append(cate_pred_train)\n",
    "    ermse = ermse+(np.square(cate_pred_train - cate_pred_test).mean())\n",
    "    ctr = ctr+1\n",
    "    \n",
    "\n",
    "    \n",
    "ermse = ermse/ctr\n",
    "\n",
    "\n"
   ]
  },
  {
   "cell_type": "code",
   "execution_count": 20,
   "metadata": {},
   "outputs": [
    {
     "name": "stdout",
     "output_type": "stream",
     "text": [
      "The estimated root mean squared error for the CFRNet is:  0.05476769432425499\n",
      "time: 1.31 ms (started: 2021-09-10 17:59:51 +00:00)\n"
     ]
    }
   ],
   "source": [
    "print(\"The estimated root mean squared error for the CFRNet is: \",ermse)"
   ]
  },
  {
   "cell_type": "code",
   "execution_count": 22,
   "metadata": {},
   "outputs": [
    {
     "data": {
      "image/png": "[encoded data removed]",
      "text/plain": [
       "<Figure size 432x288 with 1 Axes>"
      ]
     },
     "metadata": {
      "needs_background": "light"
     },
     "output_type": "display_data"
    },
    {
     "name": "stdout",
     "output_type": "stream",
     "text": [
      "time: 350 ms (started: 2021-09-10 18:00:20 +00:00)\n"
     ]
    }
   ],
   "source": [
    "for k in range(5,6):\n",
    "    plt.clf()\n",
    "    n, bins, patches = plt.hist(np.array(cate_pred_train),bins=100) #0 to k-1 for range 1 to 6\n",
    "    plt.axvline(linewidth=1, color='r')\n",
    "    plt.show()"
   ]
  },
  {
   "cell_type": "code",
   "execution_count": 239,
   "metadata": {},
   "outputs": [
    {
     "data": {
      "text/plain": [
       "<matplotlib.legend.Legend at 0x7f295c657a90>"
      ]
     },
     "execution_count": 239,
     "metadata": {},
     "output_type": "execute_result"
    },
    {
     "data": {
      "image/png": "[encoded data removed]",
      "text/plain": [
       "<Figure size 432x288 with 1 Axes>"
      ]
     },
     "metadata": {
      "needs_background": "light"
     },
     "output_type": "display_data"
    },
    {
     "name": "stdout",
     "output_type": "stream",
     "text": [
      "time: 394 ms (started: 2021-08-13 21:10:43 +00:00)\n"
     ]
    }
   ],
   "source": [
    "bins = np.linspace(-0.5, 0.5, 100)\n",
    "data1 = [cate_pred_test.flatten()]\n",
    "plt.hist(data1, bins, label = ['CFRNet'])\n",
    "plt.axvline(linewidth=1, color='r')\n",
    "plt.legend(loc='upper left')"
   ]
  },
  {
   "cell_type": "markdown",
   "metadata": {},
   "source": [
    "# estimate CATE using SNet = S Learner"
   ]
  },
  {
   "cell_type": "code",
   "execution_count": 154,
   "metadata": {},
   "outputs": [
    {
     "name": "stdout",
     "output_type": "stream",
     "text": [
      "\n",
      " For treatment:  5\n",
      "Epoch: 0, current validation loss 473.84136962890625\n",
      "Epoch: 50, current validation loss 62.80744171142578\n",
      "Epoch: 100, current validation loss 11.953031539916992\n",
      "Epoch: 150, current validation loss 3.2879958152770996\n",
      "Epoch: 200, current validation loss 1.4003797769546509\n",
      "Epoch: 250, current validation loss 0.9190294742584229\n",
      "Epoch: 300, current validation loss 0.7818131446838379\n",
      "Epoch: 350, current validation loss 0.7391136288642883\n",
      "Epoch: 400, current validation loss 0.7237522602081299\n",
      "Now fitting on test data for ERMSE\n",
      "Epoch: 0, current validation loss 488.7472839355469\n",
      "Epoch: 50, current validation loss 264.3348693847656\n",
      "Epoch: 100, current validation loss 146.90472412109375\n",
      "Epoch: 150, current validation loss 84.13914489746094\n",
      "Epoch: 200, current validation loss 49.5791015625\n",
      "Epoch: 250, current validation loss 30.084522247314453\n",
      "Epoch: 300, current validation loss 18.793746948242188\n",
      "Epoch: 350, current validation loss 12.084972381591797\n",
      "Epoch: 400, current validation loss 7.998276233673096\n",
      "Epoch: 450, current validation loss 5.436212062835693\n",
      "Epoch: 500, current validation loss 3.805044174194336\n",
      "Epoch: 550, current validation loss 2.7469594478607178\n",
      "Epoch: 600, current validation loss 2.0763163566589355\n",
      "Epoch: 650, current validation loss 1.6290630102157593\n",
      "Epoch: 700, current validation loss 1.3432598114013672\n",
      "Epoch: 750, current validation loss 1.0921895503997803\n",
      "Epoch: 800, current validation loss 0.9485070109367371\n",
      "Epoch: 850, current validation loss 0.8658216595649719\n",
      "Epoch: 900, current validation loss 0.7749883532524109\n",
      "Epoch: 950, current validation loss 0.7288506031036377\n",
      "Epoch: 1000, current validation loss 0.6927261352539062\n",
      "time: 4min 36s (started: 2021-08-12 20:41:07 +00:00)\n"
     ]
    }
   ],
   "source": [
    "\n",
    "\n",
    "ermse = 0.0\n",
    "cate_pred_all = []\n",
    "ctr = 0 \n",
    "for k in range(5,6):\n",
    "    print(\"\\n For treatment: \",k)\n",
    "    \n",
    "    t = SNet(val_split_prop=0.25,n_iter=1500,batch_size=500)\n",
    "    w = np.array(Treatment[0:tot_tv,k],dtype=int)\n",
    "    y = np.array(Y[0:tot_tv],dtype=int)\n",
    "    X_train = X[0:tot_tv]\n",
    "    #print(X_train)\n",
    "    X_test = X[tot_tv :totexs]\n",
    "    #cate = cate[0:tot_tv]\n",
    "    p = P[0:tot_tv]\n",
    "    t.fit(X_train, y, w) # w is t here \n",
    "    cate_pred_train = t.predict(X_test) # without potential outcomes\n",
    "    t_test = SNet(val_split_prop=0.1,n_iter=1500,batch_size=500)\n",
    "    print(\"Now fitting on test data for ERMSE\")\n",
    "    t_test.fit(X_test, Y[tot_tv :totexs], np.array(Treatment[tot_tv :totexs,k],dtype=int)) # w is t here \n",
    "    cate_pred_test = t_test.predict(X_test) \n",
    "    cate_pred_all.append(cate_pred_train)\n",
    "    ermse = ermse+(np.square(cate_pred_train - cate_pred_test).mean())\n",
    "    ctr = ctr+1\n",
    "    \n",
    "\n",
    "    \n",
    "ermse = ermse/ctr\n",
    "\n",
    "\n"
   ]
  },
  {
   "cell_type": "code",
   "execution_count": 155,
   "metadata": {},
   "outputs": [
    {
     "name": "stdout",
     "output_type": "stream",
     "text": [
      "The estimated root mean squared error for the SNet is:  0.03364619240164757\n",
      "time: 985 µs (started: 2021-08-12 20:45:44 +00:00)\n"
     ]
    }
   ],
   "source": [
    "print(\"The estimated root mean squared error for the SNet is: \",ermse)"
   ]
  },
  {
   "cell_type": "code",
   "execution_count": 156,
   "metadata": {},
   "outputs": [
    {
     "data": {
      "image/png": "[encoded data removed]",
      "text/plain": [
       "<Figure size 432x288 with 1 Axes>"
      ]
     },
     "metadata": {
      "needs_background": "light"
     },
     "output_type": "display_data"
    },
    {
     "name": "stdout",
     "output_type": "stream",
     "text": [
      "time: 334 ms (started: 2021-08-12 20:45:44 +00:00)\n"
     ]
    }
   ],
   "source": [
    "for k in range(5,6):\n",
    "    plt.clf()\n",
    "    n, bins, patches = plt.hist(np.array(cate_pred_all[0]),bins=100) #0 to k-1 for range 1 to 6\n",
    "    plt.axvline(linewidth=1, color='r')\n",
    "    plt.show()"
   ]
  },
  {
   "cell_type": "markdown",
   "metadata": {},
   "source": [
    "# estimate CATE using SNet2 = DragonNet"
   ]
  },
  {
   "cell_type": "code",
   "execution_count": 5,
   "metadata": {},
   "outputs": [
    {
     "name": "stderr",
     "output_type": "stream",
     "text": [
      "WARNING:absl:No GPU/TPU found, falling back to CPU. (Set TF_CPP_MIN_LOG_LEVEL=0 and rerun for more info.)\n"
     ]
    },
    {
     "name": "stdout",
     "output_type": "stream",
     "text": [
      "\n",
      " For treatment:  5\n",
      "Epoch: 0, current validation loss 0.8309612274169922\n",
      "Now fitting on test data for ERMSE\n",
      "Epoch: 0, current validation loss 0.8949765563011169\n",
      "Epoch: 50, current validation loss 0.611284613609314\n",
      "Epoch: 100, current validation loss 0.5898926258087158\n",
      "time: 38.2 s (started: 2021-11-29 16:20:18 +00:00)\n"
     ]
    }
   ],
   "source": [
    "\n",
    "\n",
    "ermse = 0.0\n",
    "cate_pred_all = []\n",
    "ctr = 0\n",
    "for k in range(5,6):\n",
    "    print(\"\\n For treatment: \",k)\n",
    "    \n",
    "    t = SNet2(val_split_prop=0.25,n_iter=1500,batch_size=500)\n",
    "    w = np.array(Treatment[0:tot_tv,k],dtype=int)\n",
    "    y = np.array(Y[0:tot_tv],dtype=int)\n",
    "    X_train = Xs[0:tot_tv]\n",
    "    #print(X_train)\n",
    "    X_test = Xs[tot_tv :totexs]\n",
    "    #cate = cate[0:tot_tv]\n",
    "    p = P[0:tot_tv]\n",
    "    t.fit(X_train, y, w) # w is t here \n",
    "    cate_pred_train = t.predict(X_test) # without potential outcomes\n",
    "    t_test = SNet2(val_split_prop=0.1,n_iter=1500,batch_size=500)\n",
    "    print(\"Now fitting on test data for ERMSE\")\n",
    "    t_test.fit(X_test, Y[tot_tv :totexs], np.array(Treatment[tot_tv :totexs,k],dtype=int)) # w is t here \n",
    "    cate_pred_test = t_test.predict(X_test) \n",
    "    cate_pred_all.append(cate_pred_train)\n",
    "    ermse = ermse+(np.square(cate_pred_train - cate_pred_test).mean())\n",
    "    ctr = ctr+1\n",
    "    \n",
    "\n",
    "    \n",
    "ermse = ermse/ctr\n",
    "\n",
    "\n"
   ]
  },
  {
   "cell_type": "code",
   "execution_count": 6,
   "metadata": {},
   "outputs": [
    {
     "name": "stdout",
     "output_type": "stream",
     "text": [
      "The estimated root mean squared error for the DragonNet is:  0.04019579291343689\n",
      "time: 1.46 ms (started: 2021-11-29 16:20:57 +00:00)\n"
     ]
    }
   ],
   "source": [
    "print(\"The estimated root mean squared error for the DragonNet is: \",ermse)"
   ]
  },
  {
   "cell_type": "code",
   "execution_count": 7,
   "metadata": {},
   "outputs": [
    {
     "data": {
      "image/png": "[encoded data removed]",
      "text/plain": [
       "<Figure size 432x288 with 1 Axes>"
      ]
     },
     "metadata": {
      "needs_background": "light"
     },
     "output_type": "display_data"
    },
    {
     "name": "stdout",
     "output_type": "stream",
     "text": [
      "time: 374 ms (started: 2021-11-29 16:20:57 +00:00)\n"
     ]
    }
   ],
   "source": [
    "for k in range(5,6):\n",
    "    plt.clf()\n",
    "    n, bins, patches = plt.hist(np.array(cate_pred_test),bins=100) #0 to k-1 for range 1 to 6\n",
    "    plt.axvline(linewidth=1, color='r')\n",
    "    plt.show()"
   ]
  },
  {
   "cell_type": "markdown",
   "metadata": {},
   "source": [
    "# DR Net"
   ]
  },
  {
   "cell_type": "code",
   "execution_count": 393,
   "metadata": {},
   "outputs": [
    {
     "name": "stdout",
     "output_type": "stream",
     "text": [
      "\n",
      " For treatment:  5\n",
      "Training first stage with all data (no data splitting)\n",
      "Training PO_0 Net\n",
      "Epoch: 0, current validation loss: 0.1632564812898636\n",
      "Training PO_1 Net\n",
      "Epoch: 0, current validation loss: 0.47067999839782715\n",
      "Training propensity net\n",
      "Epoch: 0, current validation loss: 0.5933991074562073\n",
      "Training second stage.\n",
      "Epoch: 0, current validation loss: 1.0979541540145874\n",
      "Now fitting on test data for ERMSE\n",
      "Epoch: 0, current validation loss 0.18453781306743622\n",
      "time: 57.1 s (started: 2021-08-27 19:00:53 +00:00)\n"
     ]
    }
   ],
   "source": [
    "ermse = 0.0\n",
    "cate_pred_all = []\n",
    "ctr = 0\n",
    "for k in range(5,6):\n",
    "    print(\"\\n For treatment: \",k)\n",
    "    \n",
    "    t = DRNet(val_split_prop=0.25,n_iter=1500,batch_size=100)\n",
    "    w = np.array(Treatment[0:tot_tv,k],dtype=int)\n",
    "    y = np.array(Y[0:tot_tv],dtype=int)\n",
    "    X_train = Xs[0:tot_tv]\n",
    "    #print(X_train)\n",
    "    X_test = Xs[tot_tv :totexs]\n",
    "    #cate = cate[0:tot_tv]\n",
    "    p = P[0:tot_tv]\n",
    "    t.fit(X_train, y, w) # w is t here \n",
    "    cate_pred_train = t.predict(X_test) # without potential outcomes\n",
    "    t_test = SNet1(val_split_prop=0.1,n_iter=1500,batch_size=100)\n",
    "    print(\"Now fitting on test data for ERMSE\")\n",
    "    t_test.fit(X_test, Y[tot_tv :totexs], np.array(Treatment[tot_tv :totexs,k],dtype=int)) # w is t here \n",
    "    cate_pred_test = t_test.predict(X_test) \n",
    "    cate_pred_all.append(cate_pred_train)\n",
    "    ermse = ermse+(np.square(cate_pred_train - cate_pred_test).mean())\n",
    "    ctr = ctr+1\n",
    "    \n",
    "\n",
    "    \n",
    "ermse = ermse/ctr\n"
   ]
  },
  {
   "cell_type": "code",
   "execution_count": 9,
   "metadata": {},
   "outputs": [
    {
     "name": "stdout",
     "output_type": "stream",
     "text": [
      "The estimated root mean squared error for the DRNet is:  0.04019579291343689\n",
      "time: 1.68 ms (started: 2021-11-29 16:22:26 +00:00)\n"
     ]
    }
   ],
   "source": [
    "print(\"The estimated root mean squared error for the DRNet is: \",ermse)"
   ]
  },
  {
   "cell_type": "markdown",
   "metadata": {},
   "source": [
    "**Check the IF-PEHE for test set for a given model**"
   ]
  },
  {
   "cell_type": "code",
   "execution_count": 10,
   "metadata": {},
   "outputs": [
    {
     "name": "stderr",
     "output_type": "stream",
     "text": [
      "/usr/local/lib/python3.7/dist-packages/sklearn/base.py:315: UserWarning: Trying to unpickle estimator LabelEncoder from version 0.23.2 when using version 0.24.2. This might lead to breaking code or invalid results. Use at your own risk.\n",
      "  UserWarning)\n"
     ]
    },
    {
     "name": "stdout",
     "output_type": "stream",
     "text": [
      "time: 256 ms (started: 2021-11-29 16:22:31 +00:00)\n"
     ]
    }
   ],
   "source": [
    "from sklearn import preprocessing\n",
    "\n",
    "def prepare(y, tr, w, x, rx2id, target):\n",
    "    patid_temp = list(w['patid'].unique())\n",
    "    temp_le = preprocessing.LabelEncoder()\n",
    "    temp_le.fit(list(patid_temp))\n",
    "    w['row_idx'] = temp_le.transform(w['patid'])\n",
    "    \n",
    "    w_sparse = csr_matrix((w['log_count'], (w['row_idx'], w['phecode3'])))\n",
    "    w = w_sparse.toarray()\n",
    "    \n",
    "    x_temp = np.concatenate((w, x.values), axis=1)\n",
    "    \n",
    "    treatment_train = [0] * len(tr)\n",
    "    temp_index = tr.index\n",
    "    idx = 0\n",
    "\n",
    "    def get_classes(value):\n",
    "        return [k for k, v in rx2id.items() if v == value]\n",
    "\n",
    "    for i in temp_index:\n",
    "        classes = tr.loc[i, 'antiasthma']\n",
    "        if (classes != target):\n",
    "            treatment_train[idx] = 'control'\n",
    "        else:\n",
    "            treatment_train[idx] = 'treatment'\n",
    "        idx += 1\n",
    "        \n",
    "    treatment = pd.DataFrame(treatment_train)\n",
    "    treatment.index = temp_index\n",
    "    treatment.columns = ['treatment']\n",
    "    \n",
    "    y = pd.DataFrame(y)\n",
    "    feature_df = pd.DataFrame(x_temp)\n",
    "    feature_df.index = y.index\n",
    "    \n",
    "    df = pd.concat([y, treatment, tr, feature_df], axis=1)\n",
    "    df.index = np.arange(0, len(df))\n",
    "    return df\n",
    "\n",
    "le_dx=pickle.load(open(data_path+'le_dx.pkl','rb'))\n",
    "le_patid=pickle.load(open(data_path+'le_patid.pkl','rb'))\n",
    "selected_patient_feature=['age_onset','obs_win','female']+['race__'+c for c in ['A','B','H','U','W']]\n",
    "rx2id = pickle.load(open(data_path+'drug_dict.pkl', 'rb'))\n",
    "\n",
    "target = 5\n",
    "df_val0 = prepare(Y_va, T_va, W_va, X_va, rx2id, target)\n",
    "df_test0 = prepare(Y_te, T_te, W_te, X_te, rx2id, target)\n",
    "df_train0 = prepare(Y_tr, T_tr, W_tr, X_tr, rx2id, target)\n",
    "\n",
    "x_train0 = df_train0.iloc[:, 5:]\n",
    "x_test0 = df_test0.iloc[:, 5:]\n",
    "x_val0 = df_val0.iloc[:, 5:]\n",
    "\n",
    "y_val = df_val0['adrd']\n",
    "\n"
   ]
  },
  {
   "cell_type": "code",
   "execution_count": 11,
   "metadata": {},
   "outputs": [
    {
     "data": {
      "text/html": [
       "<div>\n",
       "<style scoped>\n",
       "    .dataframe tbody tr th:only-of-type {\n",
       "        vertical-align: middle;\n",
       "    }\n",
       "\n",
       "    .dataframe tbody tr th {\n",
       "        vertical-align: top;\n",
       "    }\n",
       "\n",
       "    .dataframe thead th {\n",
       "        text-align: right;\n",
       "    }\n",
       "</style>\n",
       "<table border=\"1\" class=\"dataframe\">\n",
       "  <thead>\n",
       "    <tr style=\"text-align: right;\">\n",
       "      <th></th>\n",
       "      <th>0</th>\n",
       "      <th>1</th>\n",
       "      <th>2</th>\n",
       "      <th>3</th>\n",
       "      <th>4</th>\n",
       "      <th>5</th>\n",
       "      <th>6</th>\n",
       "      <th>7</th>\n",
       "      <th>8</th>\n",
       "      <th>9</th>\n",
       "      <th>...</th>\n",
       "      <th>239</th>\n",
       "      <th>240</th>\n",
       "      <th>241</th>\n",
       "      <th>242</th>\n",
       "      <th>243</th>\n",
       "      <th>244</th>\n",
       "      <th>245</th>\n",
       "      <th>246</th>\n",
       "      <th>247</th>\n",
       "      <th>248</th>\n",
       "    </tr>\n",
       "  </thead>\n",
       "  <tbody>\n",
       "    <tr>\n",
       "      <th>0</th>\n",
       "      <td>0.0</td>\n",
       "      <td>0.000000</td>\n",
       "      <td>0.000000</td>\n",
       "      <td>0.000000</td>\n",
       "      <td>0.000000</td>\n",
       "      <td>0.000000</td>\n",
       "      <td>0.0</td>\n",
       "      <td>2.397895</td>\n",
       "      <td>0.693147</td>\n",
       "      <td>0.000000</td>\n",
       "      <td>...</td>\n",
       "      <td>0.0</td>\n",
       "      <td>0.000000</td>\n",
       "      <td>0.0</td>\n",
       "      <td>75.0</td>\n",
       "      <td>1.0</td>\n",
       "      <td>1.0</td>\n",
       "      <td>0.0</td>\n",
       "      <td>0.0</td>\n",
       "      <td>0.0</td>\n",
       "      <td>0.0</td>\n",
       "    </tr>\n",
       "    <tr>\n",
       "      <th>1</th>\n",
       "      <td>0.0</td>\n",
       "      <td>0.000000</td>\n",
       "      <td>1.098612</td>\n",
       "      <td>1.098612</td>\n",
       "      <td>0.693147</td>\n",
       "      <td>0.693147</td>\n",
       "      <td>0.0</td>\n",
       "      <td>2.639057</td>\n",
       "      <td>1.386294</td>\n",
       "      <td>0.000000</td>\n",
       "      <td>...</td>\n",
       "      <td>0.0</td>\n",
       "      <td>0.000000</td>\n",
       "      <td>0.0</td>\n",
       "      <td>72.0</td>\n",
       "      <td>0.0</td>\n",
       "      <td>0.0</td>\n",
       "      <td>0.0</td>\n",
       "      <td>0.0</td>\n",
       "      <td>0.0</td>\n",
       "      <td>1.0</td>\n",
       "    </tr>\n",
       "    <tr>\n",
       "      <th>2</th>\n",
       "      <td>0.0</td>\n",
       "      <td>0.000000</td>\n",
       "      <td>0.000000</td>\n",
       "      <td>0.000000</td>\n",
       "      <td>0.000000</td>\n",
       "      <td>2.197225</td>\n",
       "      <td>0.0</td>\n",
       "      <td>0.000000</td>\n",
       "      <td>0.000000</td>\n",
       "      <td>0.000000</td>\n",
       "      <td>...</td>\n",
       "      <td>0.0</td>\n",
       "      <td>0.000000</td>\n",
       "      <td>0.0</td>\n",
       "      <td>74.0</td>\n",
       "      <td>0.0</td>\n",
       "      <td>0.0</td>\n",
       "      <td>0.0</td>\n",
       "      <td>0.0</td>\n",
       "      <td>0.0</td>\n",
       "      <td>1.0</td>\n",
       "    </tr>\n",
       "    <tr>\n",
       "      <th>3</th>\n",
       "      <td>0.0</td>\n",
       "      <td>0.000000</td>\n",
       "      <td>0.000000</td>\n",
       "      <td>0.000000</td>\n",
       "      <td>0.000000</td>\n",
       "      <td>1.791759</td>\n",
       "      <td>0.0</td>\n",
       "      <td>0.000000</td>\n",
       "      <td>1.098612</td>\n",
       "      <td>0.693147</td>\n",
       "      <td>...</td>\n",
       "      <td>0.0</td>\n",
       "      <td>0.000000</td>\n",
       "      <td>0.0</td>\n",
       "      <td>83.0</td>\n",
       "      <td>1.0</td>\n",
       "      <td>0.0</td>\n",
       "      <td>0.0</td>\n",
       "      <td>1.0</td>\n",
       "      <td>0.0</td>\n",
       "      <td>0.0</td>\n",
       "    </tr>\n",
       "    <tr>\n",
       "      <th>4</th>\n",
       "      <td>0.0</td>\n",
       "      <td>0.000000</td>\n",
       "      <td>0.000000</td>\n",
       "      <td>0.000000</td>\n",
       "      <td>0.000000</td>\n",
       "      <td>0.000000</td>\n",
       "      <td>0.0</td>\n",
       "      <td>0.000000</td>\n",
       "      <td>0.000000</td>\n",
       "      <td>0.000000</td>\n",
       "      <td>...</td>\n",
       "      <td>0.0</td>\n",
       "      <td>0.000000</td>\n",
       "      <td>0.0</td>\n",
       "      <td>84.0</td>\n",
       "      <td>0.0</td>\n",
       "      <td>0.0</td>\n",
       "      <td>0.0</td>\n",
       "      <td>0.0</td>\n",
       "      <td>0.0</td>\n",
       "      <td>1.0</td>\n",
       "    </tr>\n",
       "    <tr>\n",
       "      <th>...</th>\n",
       "      <td>...</td>\n",
       "      <td>...</td>\n",
       "      <td>...</td>\n",
       "      <td>...</td>\n",
       "      <td>...</td>\n",
       "      <td>...</td>\n",
       "      <td>...</td>\n",
       "      <td>...</td>\n",
       "      <td>...</td>\n",
       "      <td>...</td>\n",
       "      <td>...</td>\n",
       "      <td>...</td>\n",
       "      <td>...</td>\n",
       "      <td>...</td>\n",
       "      <td>...</td>\n",
       "      <td>...</td>\n",
       "      <td>...</td>\n",
       "      <td>...</td>\n",
       "      <td>...</td>\n",
       "      <td>...</td>\n",
       "      <td>...</td>\n",
       "    </tr>\n",
       "    <tr>\n",
       "      <th>6766</th>\n",
       "      <td>0.0</td>\n",
       "      <td>0.000000</td>\n",
       "      <td>0.000000</td>\n",
       "      <td>0.000000</td>\n",
       "      <td>0.000000</td>\n",
       "      <td>0.000000</td>\n",
       "      <td>0.0</td>\n",
       "      <td>0.000000</td>\n",
       "      <td>0.000000</td>\n",
       "      <td>0.000000</td>\n",
       "      <td>...</td>\n",
       "      <td>0.0</td>\n",
       "      <td>0.000000</td>\n",
       "      <td>0.0</td>\n",
       "      <td>90.0</td>\n",
       "      <td>0.0</td>\n",
       "      <td>0.0</td>\n",
       "      <td>0.0</td>\n",
       "      <td>0.0</td>\n",
       "      <td>0.0</td>\n",
       "      <td>1.0</td>\n",
       "    </tr>\n",
       "    <tr>\n",
       "      <th>6767</th>\n",
       "      <td>0.0</td>\n",
       "      <td>0.000000</td>\n",
       "      <td>0.693147</td>\n",
       "      <td>0.000000</td>\n",
       "      <td>0.000000</td>\n",
       "      <td>0.000000</td>\n",
       "      <td>0.0</td>\n",
       "      <td>0.000000</td>\n",
       "      <td>0.000000</td>\n",
       "      <td>0.000000</td>\n",
       "      <td>...</td>\n",
       "      <td>0.0</td>\n",
       "      <td>0.000000</td>\n",
       "      <td>0.0</td>\n",
       "      <td>83.0</td>\n",
       "      <td>1.0</td>\n",
       "      <td>0.0</td>\n",
       "      <td>0.0</td>\n",
       "      <td>0.0</td>\n",
       "      <td>0.0</td>\n",
       "      <td>1.0</td>\n",
       "    </tr>\n",
       "    <tr>\n",
       "      <th>6768</th>\n",
       "      <td>0.0</td>\n",
       "      <td>0.000000</td>\n",
       "      <td>0.693147</td>\n",
       "      <td>0.000000</td>\n",
       "      <td>0.000000</td>\n",
       "      <td>0.000000</td>\n",
       "      <td>0.0</td>\n",
       "      <td>0.000000</td>\n",
       "      <td>0.000000</td>\n",
       "      <td>0.000000</td>\n",
       "      <td>...</td>\n",
       "      <td>0.0</td>\n",
       "      <td>0.000000</td>\n",
       "      <td>0.0</td>\n",
       "      <td>88.0</td>\n",
       "      <td>0.0</td>\n",
       "      <td>0.0</td>\n",
       "      <td>0.0</td>\n",
       "      <td>1.0</td>\n",
       "      <td>0.0</td>\n",
       "      <td>0.0</td>\n",
       "    </tr>\n",
       "    <tr>\n",
       "      <th>6769</th>\n",
       "      <td>0.0</td>\n",
       "      <td>0.000000</td>\n",
       "      <td>0.693147</td>\n",
       "      <td>0.000000</td>\n",
       "      <td>0.000000</td>\n",
       "      <td>1.386294</td>\n",
       "      <td>0.0</td>\n",
       "      <td>0.000000</td>\n",
       "      <td>0.000000</td>\n",
       "      <td>0.000000</td>\n",
       "      <td>...</td>\n",
       "      <td>0.0</td>\n",
       "      <td>0.693147</td>\n",
       "      <td>0.0</td>\n",
       "      <td>89.0</td>\n",
       "      <td>0.0</td>\n",
       "      <td>0.0</td>\n",
       "      <td>0.0</td>\n",
       "      <td>0.0</td>\n",
       "      <td>0.0</td>\n",
       "      <td>1.0</td>\n",
       "    </tr>\n",
       "    <tr>\n",
       "      <th>6770</th>\n",
       "      <td>0.0</td>\n",
       "      <td>0.693147</td>\n",
       "      <td>0.000000</td>\n",
       "      <td>1.098612</td>\n",
       "      <td>0.000000</td>\n",
       "      <td>0.000000</td>\n",
       "      <td>0.0</td>\n",
       "      <td>1.386294</td>\n",
       "      <td>0.000000</td>\n",
       "      <td>0.000000</td>\n",
       "      <td>...</td>\n",
       "      <td>0.0</td>\n",
       "      <td>0.000000</td>\n",
       "      <td>0.0</td>\n",
       "      <td>83.0</td>\n",
       "      <td>1.0</td>\n",
       "      <td>0.0</td>\n",
       "      <td>0.0</td>\n",
       "      <td>0.0</td>\n",
       "      <td>0.0</td>\n",
       "      <td>1.0</td>\n",
       "    </tr>\n",
       "  </tbody>\n",
       "</table>\n",
       "<p>6771 rows × 249 columns</p>\n",
       "</div>"
      ],
      "text/plain": [
       "      0         1         2         3         4         5    6         7    \\\n",
       "0     0.0  0.000000  0.000000  0.000000  0.000000  0.000000  0.0  2.397895   \n",
       "1     0.0  0.000000  1.098612  1.098612  0.693147  0.693147  0.0  2.639057   \n",
       "2     0.0  0.000000  0.000000  0.000000  0.000000  2.197225  0.0  0.000000   \n",
       "3     0.0  0.000000  0.000000  0.000000  0.000000  1.791759  0.0  0.000000   \n",
       "4     0.0  0.000000  0.000000  0.000000  0.000000  0.000000  0.0  0.000000   \n",
       "...   ...       ...       ...       ...       ...       ...  ...       ...   \n",
       "6766  0.0  0.000000  0.000000  0.000000  0.000000  0.000000  0.0  0.000000   \n",
       "6767  0.0  0.000000  0.693147  0.000000  0.000000  0.000000  0.0  0.000000   \n",
       "6768  0.0  0.000000  0.693147  0.000000  0.000000  0.000000  0.0  0.000000   \n",
       "6769  0.0  0.000000  0.693147  0.000000  0.000000  1.386294  0.0  0.000000   \n",
       "6770  0.0  0.693147  0.000000  1.098612  0.000000  0.000000  0.0  1.386294   \n",
       "\n",
       "           8         9    ...  239       240  241   242  243  244  245  246  \\\n",
       "0     0.693147  0.000000  ...  0.0  0.000000  0.0  75.0  1.0  1.0  0.0  0.0   \n",
       "1     1.386294  0.000000  ...  0.0  0.000000  0.0  72.0  0.0  0.0  0.0  0.0   \n",
       "2     0.000000  0.000000  ...  0.0  0.000000  0.0  74.0  0.0  0.0  0.0  0.0   \n",
       "3     1.098612  0.693147  ...  0.0  0.000000  0.0  83.0  1.0  0.0  0.0  1.0   \n",
       "4     0.000000  0.000000  ...  0.0  0.000000  0.0  84.0  0.0  0.0  0.0  0.0   \n",
       "...        ...       ...  ...  ...       ...  ...   ...  ...  ...  ...  ...   \n",
       "6766  0.000000  0.000000  ...  0.0  0.000000  0.0  90.0  0.0  0.0  0.0  0.0   \n",
       "6767  0.000000  0.000000  ...  0.0  0.000000  0.0  83.0  1.0  0.0  0.0  0.0   \n",
       "6768  0.000000  0.000000  ...  0.0  0.000000  0.0  88.0  0.0  0.0  0.0  1.0   \n",
       "6769  0.000000  0.000000  ...  0.0  0.693147  0.0  89.0  0.0  0.0  0.0  0.0   \n",
       "6770  0.000000  0.000000  ...  0.0  0.000000  0.0  83.0  1.0  0.0  0.0  0.0   \n",
       "\n",
       "      247  248  \n",
       "0     0.0  0.0  \n",
       "1     0.0  1.0  \n",
       "2     0.0  1.0  \n",
       "3     0.0  0.0  \n",
       "4     0.0  1.0  \n",
       "...   ...  ...  \n",
       "6766  0.0  1.0  \n",
       "6767  0.0  1.0  \n",
       "6768  0.0  0.0  \n",
       "6769  0.0  1.0  \n",
       "6770  0.0  1.0  \n",
       "\n",
       "[6771 rows x 249 columns]"
      ]
     },
     "execution_count": 11,
     "metadata": {},
     "output_type": "execute_result"
    },
    {
     "name": "stdout",
     "output_type": "stream",
     "text": [
      "time: 30.5 ms (started: 2021-11-29 16:22:31 +00:00)\n"
     ]
    }
   ],
   "source": [
    "x_train0"
   ]
  },
  {
   "cell_type": "code",
   "execution_count": 12,
   "metadata": {},
   "outputs": [
    {
     "name": "stderr",
     "output_type": "stream",
     "text": [
      "/usr/local/lib/python3.7/dist-packages/xgboost/sklearn.py:1146: UserWarning: The use of label encoder in XGBClassifier is deprecated and will be removed in a future release. To remove this warning, do the following: 1) Pass option use_label_encoder=False when constructing XGBClassifier object; and 2) Encode your labels (y) as integers starting with 0, i.e. 0, 1, 2, ..., [num_class - 1].\n",
      "  warnings.warn(label_encoder_deprecation_msg, UserWarning)\n"
     ]
    },
    {
     "name": "stdout",
     "output_type": "stream",
     "text": [
      "[16:22:40] WARNING: ../src/learner.cc:1095: Starting in XGBoost 1.3.0, the default evaluation metric used with the objective 'binary:logistic' was changed from 'error' to 'logloss'. Explicitly set eval_metric if you'd like to restore the old behavior.\n"
     ]
    },
    {
     "data": {
      "text/plain": [
       "XGBClassifier(base_score=0.5, booster='gbtree', colsample_bylevel=1,\n",
       "              colsample_bynode=1, colsample_bytree=1, gamma=0, gpu_id=-1,\n",
       "              importance_type='gain', interaction_constraints='',\n",
       "              learning_rate=0.300000012, max_delta_step=0, max_depth=6,\n",
       "              min_child_weight=1, missing=nan, monotone_constraints='()',\n",
       "              n_estimators=100, n_jobs=336, num_parallel_tree=1,\n",
       "              random_state=1108, reg_alpha=0, reg_lambda=1, scale_pos_weight=1,\n",
       "              subsample=1, tree_method='exact', validate_parameters=1,\n",
       "              verbosity=None)"
      ]
     },
     "execution_count": 12,
     "metadata": {},
     "output_type": "execute_result"
    },
    {
     "name": "stdout",
     "output_type": "stream",
     "text": [
      "time: 11min 1s (started: 2021-11-29 16:22:32 +00:00)\n"
     ]
    }
   ],
   "source": [
    "from xgboost import XGBClassifier, XGBRegressor\n",
    "xgb = XGBClassifier(max_depth=6, random_state=1105, n_estimators=100)\n",
    "xgb_plugin1 = XGBClassifier(max_depth=6, random_state=1105, n_estimators=100)\n",
    "xgb_plugin0 = XGBClassifier(max_depth=6, random_state=1108, n_estimators=100)\n",
    "\n",
    "x0 = df_train0.loc[df_train0['treatment'] == 'control', 0:248]\n",
    "y0 = df_train0.loc[df_train0['treatment'] == 'control', 'adrd']\n",
    "xgb_plugin0.fit(x0, y0)\n"
   ]
  },
  {
   "cell_type": "code",
   "execution_count": 13,
   "metadata": {},
   "outputs": [
    {
     "name": "stdout",
     "output_type": "stream",
     "text": [
      "[16:33:37] WARNING: ../src/learner.cc:1095: Starting in XGBoost 1.3.0, the default evaluation metric used with the objective 'binary:logistic' was changed from 'error' to 'logloss'. Explicitly set eval_metric if you'd like to restore the old behavior.\n"
     ]
    },
    {
     "data": {
      "text/plain": [
       "XGBClassifier(base_score=0.5, booster='gbtree', colsample_bylevel=1,\n",
       "              colsample_bynode=1, colsample_bytree=1, gamma=0, gpu_id=-1,\n",
       "              importance_type='gain', interaction_constraints='',\n",
       "              learning_rate=0.300000012, max_delta_step=0, max_depth=6,\n",
       "              min_child_weight=1, missing=nan, monotone_constraints='()',\n",
       "              n_estimators=100, n_jobs=336, num_parallel_tree=1,\n",
       "              random_state=1105, reg_alpha=0, reg_lambda=1, scale_pos_weight=1,\n",
       "              subsample=1, tree_method='exact', validate_parameters=1,\n",
       "              verbosity=None)"
      ]
     },
     "execution_count": 13,
     "metadata": {},
     "output_type": "execute_result"
    },
    {
     "name": "stdout",
     "output_type": "stream",
     "text": [
      "time: 6min 59s (started: 2021-11-29 16:33:33 +00:00)\n"
     ]
    }
   ],
   "source": [
    "x1 = df_train0.loc[df_train0['treatment'] == 'treatment', 0:248]\n",
    "y1 = df_train0.loc[df_train0['treatment'] == 'treatment', 'adrd']\n",
    "xgb_plugin1.fit(x1, y1)\n",
    "\n"
   ]
  },
  {
   "cell_type": "code",
   "execution_count": 14,
   "metadata": {},
   "outputs": [
    {
     "name": "stdout",
     "output_type": "stream",
     "text": [
      "time: 660 ms (started: 2021-11-29 16:40:32 +00:00)\n"
     ]
    }
   ],
   "source": [
    "y_pred0 = xgb_plugin0.predict(x_test0)\n",
    "y_pred1 = xgb_plugin1.predict(x_test0)\n",
    "t_plugin = y_pred1 - y_pred0\n"
   ]
  },
  {
   "cell_type": "code",
   "execution_count": 15,
   "metadata": {},
   "outputs": [
    {
     "name": "stdout",
     "output_type": "stream",
     "text": [
      "[16:40:45] WARNING: ../src/learner.cc:1095: Starting in XGBoost 1.3.0, the default evaluation metric used with the objective 'binary:logistic' was changed from 'error' to 'logloss'. Explicitly set eval_metric if you'd like to restore the old behavior.\n"
     ]
    },
    {
     "data": {
      "text/plain": [
       "XGBClassifier(base_score=0.5, booster='gbtree', colsample_bylevel=1,\n",
       "              colsample_bynode=1, colsample_bytree=1, gamma=0, gpu_id=-1,\n",
       "              importance_type='gain', interaction_constraints='',\n",
       "              learning_rate=0.300000012, max_delta_step=0, max_depth=6,\n",
       "              min_child_weight=1, missing=nan, monotone_constraints='()',\n",
       "              n_estimators=100, n_jobs=336, num_parallel_tree=1,\n",
       "              random_state=1105, reg_alpha=0, reg_lambda=1, scale_pos_weight=1,\n",
       "              subsample=1, tree_method='exact', validate_parameters=1,\n",
       "              verbosity=None)"
      ]
     },
     "execution_count": 15,
     "metadata": {},
     "output_type": "execute_result"
    },
    {
     "name": "stdout",
     "output_type": "stream",
     "text": [
      "time: 13min 36s (started: 2021-11-29 16:40:33 +00:00)\n"
     ]
    }
   ],
   "source": [
    "t = df_train0['treatment']\n",
    "\n",
    "treatment = [0] * len(t)\n",
    "for i in range(len(t)):\n",
    "    if t[i] == 'control':\n",
    "        treatment[i] = 0\n",
    "    else:\n",
    "        treatment[i] = 1\n",
    "\n",
    "xgb.fit(x_train0,treatment)"
   ]
  },
  {
   "cell_type": "code",
   "execution_count": 16,
   "metadata": {},
   "outputs": [
    {
     "name": "stdout",
     "output_type": "stream",
     "text": [
      "time: 29.7 ms (started: 2021-11-29 16:54:09 +00:00)\n"
     ]
    }
   ],
   "source": [
    "cate = cate_pred_train.flatten()\n",
    "\n",
    "\n",
    "\n",
    "t_test = df_test0['treatment']\n",
    "#print(t_test)\n",
    "treatment_test = [0] * len(t_test)\n",
    "for i in range(len(t_test)):\n",
    "    if t_test[i] == 'control':\n",
    "        treatment_test[i] = 0\n",
    "    else:\n",
    "        treatment_test[i] = 1 \n",
    "        \n",
    "y_test = df_test0['adrd']\n",
    "\n",
    "t_val = df_val0['treatment']\n",
    "treatment_val = [0] * len(t_val)\n",
    "for i in range(len(t_val)):\n",
    "    if t_val[i] == 'control':\n",
    "        treatment_val[i] = 0\n",
    "    else:\n",
    "        treatment_val[i] = 1 \n",
    "        \n",
    "\n",
    "\n"
   ]
  },
  {
   "cell_type": "code",
   "execution_count": 17,
   "metadata": {},
   "outputs": [
    {
     "data": {
      "text/plain": [
       "array([-0.        , -0.        , -0.        , ...,  4.55257702,\n",
       "       -0.        , -0.        ])"
      ]
     },
     "execution_count": 17,
     "metadata": {},
     "output_type": "execute_result"
    },
    {
     "name": "stdout",
     "output_type": "stream",
     "text": [
      "time: 361 ms (started: 2021-11-29 16:54:09 +00:00)\n"
     ]
    }
   ],
   "source": [
    "plug_in = (t_plugin-cate)**2\n",
    "ps = xgb.predict_proba(x_test0)[:, 1]\n",
    "a = (treatment_test - ps)\n",
    "ident = np.array([1]*len(ps))\n",
    "ps\n",
    "\n",
    "c = (ps*(ident-ps))\n",
    "c\n",
    "\n",
    "b = np.array([2]*len(treatment_test))*treatment_test*(treatment_test-ps) / c\n",
    "\n",
    "b\n"
   ]
  },
  {
   "cell_type": "code",
   "execution_count": 18,
   "metadata": {},
   "outputs": [
    {
     "data": {
      "text/plain": [
       "10"
      ]
     },
     "execution_count": 18,
     "metadata": {},
     "output_type": "execute_result"
    },
    {
     "name": "stdout",
     "output_type": "stream",
     "text": [
      "time: 2.15 ms (started: 2021-11-29 16:54:10 +00:00)\n"
     ]
    }
   ],
   "source": [
    "y_pred1.sum()"
   ]
  },
  {
   "cell_type": "code",
   "execution_count": 19,
   "metadata": {},
   "outputs": [
    {
     "name": "stdout",
     "output_type": "stream",
     "text": [
      "53.573654\n",
      "time: 428 ms (started: 2021-11-29 16:54:10 +00:00)\n"
     ]
    }
   ],
   "source": [
    "l_de = (ident - b) * t_plugin**2 + b*y_val*(t_plugin - cate) + (- a*(t_plugin - cate)**2 + cate**2)\n",
    "\n",
    "\n",
    "print(np.sum(l_de) + np.sum(plug_in))"
   ]
  },
  {
   "cell_type": "code",
   "execution_count": null,
   "metadata": {},
   "outputs": [],
   "source": []
  }
 ],
 "metadata": {
  "kernelspec": {
   "display_name": "Python 3",
   "language": "python",
   "name": "python3"
  },
  "language_info": {
   "codemirror_mode": {
    "name": "ipython",
    "version": 3
   },
   "file_extension": ".py",
   "mimetype": "text/x-python",
   "name": "python",
   "nbconvert_exporter": "python",
   "pygments_lexer": "ipython3",
   "version": "3.5.2"
  }
 },
 "nbformat": 4,
 "nbformat_minor": 4
}
